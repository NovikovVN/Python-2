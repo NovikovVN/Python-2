{
 "cells": [
  {
   "cell_type": "code",
   "execution_count": 1,
   "metadata": {},
   "outputs": [],
   "source": [
    "from numpy import unique as np_unique\n",
    "from pandas import DataFrame as pd_DataFrame\n",
    "from random import choice, seed"
   ]
  },
  {
   "cell_type": "markdown",
   "metadata": {},
   "source": [
    "Определение количества различных подстрок с использованием хэш-функции. Пусть дана строка S длиной N, состоящая только из маленьких латинских букв. Требуется найти количество различных подстрок в этой строке."
   ]
  },
  {
   "cell_type": "code",
   "execution_count": 2,
   "metadata": {},
   "outputs": [
    {
     "name": "stdout",
     "output_type": "stream",
     "text": [
      "arunununghhjj\n",
      "Substrings count by naive search: 90\n",
      "Substrings count by Rabin-Karp with hash(): 90\n"
     ]
    }
   ],
   "source": [
    "s = 'arunununghhjj'\n",
    "\n",
    "sub_strings = set()\n",
    "for sub_len in range(1, len(s)):\n",
    "    for i in range(len(s) - sub_len + 1):\n",
    "        sub = s[i : i + sub_len]\n",
    "        sub_strings.add(sub)\n",
    "        \n",
    "# наивный поиск\n",
    "naive_results = 0\n",
    "for sub in sub_strings:\n",
    "    sub_counts = 0\n",
    "    sub_len = len(sub)\n",
    "    for i in range(len(s)):\n",
    "        if s[i : i + sub_len] == sub:\n",
    "            sub_counts += 1\n",
    "    naive_results += sub_counts\n",
    "    \n",
    "# Поиск подстроки в строке с использованием хеширования. Алгоритм Рабина-Карпа\n",
    "hash_results = 0\n",
    "for sub in sub_strings:\n",
    "    sub_counts = 0\n",
    "    sub_len = len(sub)\n",
    "    h_sub = hash(sub)\n",
    "    h_s = hash(s[0:sub_len])\n",
    "    for i in range(len(s) - sub_len + 1):\n",
    "        if h_sub == h_s:\n",
    "            if s[i : i + sub_len] == sub:\n",
    "                sub_counts += 1\n",
    "        h_s = hash(s[i + 1: i + 1 + sub_len])\n",
    "    hash_results += sub_counts\n",
    "\n",
    "print(s)\n",
    "print('Substrings count by naive search: {}'.format(naive_results))\n",
    "print('Substrings count by Rabin-Karp with hash(): {}'.format(hash_results))"
   ]
  },
  {
   "cell_type": "markdown",
   "metadata": {},
   "source": [
    "Закодируйте любую строку из трех слов по алгоритму Хаффмана."
   ]
  },
  {
   "cell_type": "code",
   "execution_count": 3,
   "metadata": {},
   "outputs": [
    {
     "name": "stdout",
     "output_type": "stream",
     "text": [
      "splitting by spacessss\n",
      "Huffman table: {'a': '0100', ' ': '1010', 'c': '0111', 'b': '0101', 'e': '0110', 'g': '0011', 'i': '1011', 'l': '0010', 'n': '0001', 'p': '1000', 's': '11', 't': '1001', 'y': '0000'}\n",
      "Coded message: 1110000010101110011001101100010011101001010000101011100001000111011011111111\n"
     ]
    }
   ],
   "source": [
    "seed(42)\n",
    "\n",
    "message = 'splitting by spacessss'\n",
    "message_list = list(message)\n",
    "\n",
    "message_symb, message_freq = np_unique(message_list, return_counts=True)\n",
    "\n",
    "df = pd_DataFrame({'s': message_symb, 'f': message_freq})\n",
    "message_dict = dict(zip(message_symb, ['' for _ in range(len(message_symb))]))\n",
    "\n",
    "while df.shape[0] >= 2:\n",
    "    df.sort_values(by=['f'], inplace=True) #by=['f', 's'], ascending=True\n",
    "    i0, i1 = choice([[1, 0], [0, 1]])\n",
    "    for s in message_dict:\n",
    "        if s in df.iloc[i0].s:\n",
    "            message_dict[s] = '0' + message_dict[s]\n",
    "        if s in df.iloc[i1].s:\n",
    "            message_dict[s] = '1' + message_dict[s]\n",
    "    df = df.append(df.iloc[0:2].sum(), ignore_index=True)\n",
    "    df = df.iloc[2:]\n",
    "\n",
    "coded_message = message\n",
    "for s in message_dict:\n",
    "    coded_message = coded_message.replace(s, message_dict[s])\n",
    "\n",
    "print(message)    \n",
    "print('Huffman table: {}'.format(message_dict))\n",
    "print('Coded message: {}'.format(coded_message))"
   ]
  }
 ],
 "metadata": {
  "kernelspec": {
   "display_name": "Python 2",
   "language": "python",
   "name": "python2"
  },
  "language_info": {
   "codemirror_mode": {
    "name": "ipython",
    "version": 2
   },
   "file_extension": ".py",
   "mimetype": "text/x-python",
   "name": "python",
   "nbconvert_exporter": "python",
   "pygments_lexer": "ipython2",
   "version": "2.7.15"
  }
 },
 "nbformat": 4,
 "nbformat_minor": 2
}
